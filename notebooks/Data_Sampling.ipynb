{
 "cells": [
  {
   "cell_type": "code",
   "execution_count": 2,
   "metadata": {},
   "outputs": [],
   "source": [
    "import pandas as pd \n",
    "import numpy as np \n",
    "import zipfile"
   ]
  },
  {
   "cell_type": "code",
   "execution_count": 4,
   "metadata": {},
   "outputs": [],
   "source": [
    "#If Product sold count is less than 10, remove the product from list\n",
    "\n",
    "#Read csv zip\n",
    "def read_csv_from_zip(file_path, csv_file_within_zip):  \n",
    "    with zipfile.ZipFile(file_path, 'r') as zip_ref:\n",
    "        with zip_ref.open(csv_file_within_zip) as csv_file:\n",
    "            df=pd.read_csv(csv_file)\n",
    "    return df\n",
    "\n",
    "# Dataset\n",
    "aisles=read_csv_from_zip(\"/Users/ozge/Desktop/Market_Basket_Analysis/dataset/aisles.csv.zip\", \"aisles.csv\")\n",
    "departments=read_csv_from_zip(\"/Users/ozge/Desktop/Market_Basket_Analysis/dataset/departments.csv.zip\", \"departments.csv\")\n",
    "order_products__prior=read_csv_from_zip(\"/Users/ozge/Desktop/Market_Basket_Analysis/dataset/order_products__prior.csv.zip\", \"order_products__prior.csv\")\n",
    "#Created in Notebook\n",
    "order_products__train3=pd.read_csv(\"/Users/ozge/Desktop/Market_Basket_Analysis/notebooks/order_products__train3.txt\", sep='\\t')\n",
    "orders=read_csv_from_zip(\"/Users/ozge/Desktop/Market_Basket_Analysis/dataset/orders.csv.zip\", \"orders.csv\")\n",
    "products=read_csv_from_zip(\"/Users/ozge/Desktop/Market_Basket_Analysis/dataset/products.csv.zip\", \"products.csv\")\n",
    "#sample_submission=read_csv_from_zip(\"/Users/ozge/Desktop/Market_Basket_Analysis/dataset/sample_submission.csv.zip\", \"sample_submission.csv\")\n",
    "\n",
    "\n"
   ]
  },
  {
   "cell_type": "code",
   "execution_count": 15,
   "metadata": {},
   "outputs": [
    {
     "data": {
      "text/plain": [
       "1384617"
      ]
     },
     "execution_count": 15,
     "metadata": {},
     "output_type": "execute_result"
    }
   ],
   "source": [
    "(order_products__train3.groupby('product_id')['order_id'].count()).sum()"
   ]
  },
  {
   "cell_type": "code",
   "execution_count": null,
   "metadata": {},
   "outputs": [],
   "source": [
    "#Stratified Sampling of Orders"
   ]
  },
  {
   "cell_type": "code",
   "execution_count": null,
   "metadata": {},
   "outputs": [],
   "source": [
    "#Systematic Sampling"
   ]
  },
  {
   "cell_type": "code",
   "execution_count": null,
   "metadata": {},
   "outputs": [],
   "source": [
    "#Compare Sampling Results"
   ]
  }
 ],
 "metadata": {
  "kernelspec": {
   "display_name": "Python 3.11.3 64-bit",
   "language": "python",
   "name": "python3"
  },
  "language_info": {
   "codemirror_mode": {
    "name": "ipython",
    "version": 3
   },
   "file_extension": ".py",
   "mimetype": "text/x-python",
   "name": "python",
   "nbconvert_exporter": "python",
   "pygments_lexer": "ipython3",
   "version": "3.11.3"
  },
  "orig_nbformat": 4,
  "vscode": {
   "interpreter": {
    "hash": "aee8b7b246df8f9039afb4144a1f6fd8d2ca17a180786b69acc140d282b71a49"
   }
  }
 },
 "nbformat": 4,
 "nbformat_minor": 2
}
